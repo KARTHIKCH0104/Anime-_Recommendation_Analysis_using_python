{
 "cells": [
  {
   "cell_type": "markdown",
   "id": "02d57d3a-a9df-4265-9330-f039551c679e",
   "metadata": {},
   "source": [
    "# ANIME RECOMMENDATION ANALYSIS USING PYTHON"
   ]
  },
  {
   "cell_type": "markdown",
   "id": "b214cb3c-7566-4fa7-b9c6-68c4b0d8f391",
   "metadata": {},
   "source": [
    "## OBJECTIVE"
   ]
  },
  {
   "cell_type": "markdown",
   "id": "02a1feff-6cb1-4593-b5b3-cb5315317711",
   "metadata": {},
   "source": [
    "To develop a anime recommendation system that leverages user preferences, viewing history, and anime metadata (such as genres, ratings, and number of episodes) to suggest personalized anime content. The analysis aims to identify patterns in user behavior and anime characteristics to enhance user engagement by providing tailored recommendations"
   ]
  },
  {
   "cell_type": "markdown",
   "id": "3eff49f2-b0ea-462d-80b6-570ea9574007",
   "metadata": {},
   "source": [
    "# IMPORTING THE LIBRARIES "
   ]
  },
  {
   "cell_type": "code",
   "execution_count": 1,
   "id": "333de523-6750-429e-aac8-77989f83793f",
   "metadata": {},
   "outputs": [],
   "source": [
    "import pandas as pd\n",
    "import numpy as np\n",
    "import seaborn as sns\n",
    "import matplotlib.pyplot as plt"
   ]
  },
  {
   "cell_type": "markdown",
   "id": "a5ffee5b-e1e6-4d71-8af5-903d2ee39418",
   "metadata": {},
   "source": [
    "# LOADING AND ANALYSING DATASET"
   ]
  },
  {
   "cell_type": "code",
   "execution_count": 2,
   "id": "fc37e877-6020-4c7d-b6a9-ffedc9d07f7f",
   "metadata": {},
   "outputs": [
    {
     "data": {
      "text/html": [
       "<div>\n",
       "<style scoped>\n",
       "    .dataframe tbody tr th:only-of-type {\n",
       "        vertical-align: middle;\n",
       "    }\n",
       "\n",
       "    .dataframe tbody tr th {\n",
       "        vertical-align: top;\n",
       "    }\n",
       "\n",
       "    .dataframe thead th {\n",
       "        text-align: right;\n",
       "    }\n",
       "</style>\n",
       "<table border=\"1\" class=\"dataframe\">\n",
       "  <thead>\n",
       "    <tr style=\"text-align: right;\">\n",
       "      <th></th>\n",
       "      <th>anime_id</th>\n",
       "      <th>name</th>\n",
       "      <th>genre</th>\n",
       "      <th>type</th>\n",
       "      <th>episodes</th>\n",
       "      <th>rating</th>\n",
       "      <th>members</th>\n",
       "    </tr>\n",
       "  </thead>\n",
       "  <tbody>\n",
       "    <tr>\n",
       "      <th>0</th>\n",
       "      <td>32281</td>\n",
       "      <td>Kimi no Na wa.</td>\n",
       "      <td>Drama, Romance, School, Supernatural</td>\n",
       "      <td>Movie</td>\n",
       "      <td>1</td>\n",
       "      <td>9.37</td>\n",
       "      <td>200630</td>\n",
       "    </tr>\n",
       "    <tr>\n",
       "      <th>1</th>\n",
       "      <td>5114</td>\n",
       "      <td>Fullmetal Alchemist: Brotherhood</td>\n",
       "      <td>Action, Adventure, Drama, Fantasy, Magic, Mili...</td>\n",
       "      <td>TV</td>\n",
       "      <td>64</td>\n",
       "      <td>9.26</td>\n",
       "      <td>793665</td>\n",
       "    </tr>\n",
       "    <tr>\n",
       "      <th>2</th>\n",
       "      <td>28977</td>\n",
       "      <td>Gintama°</td>\n",
       "      <td>Action, Comedy, Historical, Parody, Samurai, S...</td>\n",
       "      <td>TV</td>\n",
       "      <td>51</td>\n",
       "      <td>9.25</td>\n",
       "      <td>114262</td>\n",
       "    </tr>\n",
       "    <tr>\n",
       "      <th>3</th>\n",
       "      <td>9253</td>\n",
       "      <td>Steins;Gate</td>\n",
       "      <td>Sci-Fi, Thriller</td>\n",
       "      <td>TV</td>\n",
       "      <td>24</td>\n",
       "      <td>9.17</td>\n",
       "      <td>673572</td>\n",
       "    </tr>\n",
       "    <tr>\n",
       "      <th>4</th>\n",
       "      <td>9969</td>\n",
       "      <td>Gintama&amp;#039;</td>\n",
       "      <td>Action, Comedy, Historical, Parody, Samurai, S...</td>\n",
       "      <td>TV</td>\n",
       "      <td>51</td>\n",
       "      <td>9.16</td>\n",
       "      <td>151266</td>\n",
       "    </tr>\n",
       "    <tr>\n",
       "      <th>5</th>\n",
       "      <td>32935</td>\n",
       "      <td>Haikyuu!!: Karasuno Koukou VS Shiratorizawa Ga...</td>\n",
       "      <td>Comedy, Drama, School, Shounen, Sports</td>\n",
       "      <td>TV</td>\n",
       "      <td>10</td>\n",
       "      <td>9.15</td>\n",
       "      <td>93351</td>\n",
       "    </tr>\n",
       "    <tr>\n",
       "      <th>6</th>\n",
       "      <td>11061</td>\n",
       "      <td>Hunter x Hunter (2011)</td>\n",
       "      <td>Action, Adventure, Shounen, Super Power</td>\n",
       "      <td>TV</td>\n",
       "      <td>148</td>\n",
       "      <td>9.13</td>\n",
       "      <td>425855</td>\n",
       "    </tr>\n",
       "    <tr>\n",
       "      <th>7</th>\n",
       "      <td>820</td>\n",
       "      <td>Ginga Eiyuu Densetsu</td>\n",
       "      <td>Drama, Military, Sci-Fi, Space</td>\n",
       "      <td>OVA</td>\n",
       "      <td>110</td>\n",
       "      <td>9.11</td>\n",
       "      <td>80679</td>\n",
       "    </tr>\n",
       "    <tr>\n",
       "      <th>8</th>\n",
       "      <td>15335</td>\n",
       "      <td>Gintama Movie: Kanketsu-hen - Yorozuya yo Eien...</td>\n",
       "      <td>Action, Comedy, Historical, Parody, Samurai, S...</td>\n",
       "      <td>Movie</td>\n",
       "      <td>1</td>\n",
       "      <td>9.10</td>\n",
       "      <td>72534</td>\n",
       "    </tr>\n",
       "    <tr>\n",
       "      <th>9</th>\n",
       "      <td>15417</td>\n",
       "      <td>Gintama&amp;#039;: Enchousen</td>\n",
       "      <td>Action, Comedy, Historical, Parody, Samurai, S...</td>\n",
       "      <td>TV</td>\n",
       "      <td>13</td>\n",
       "      <td>9.11</td>\n",
       "      <td>81109</td>\n",
       "    </tr>\n",
       "  </tbody>\n",
       "</table>\n",
       "</div>"
      ],
      "text/plain": [
       "   anime_id                                               name  \\\n",
       "0     32281                                     Kimi no Na wa.   \n",
       "1      5114                   Fullmetal Alchemist: Brotherhood   \n",
       "2     28977                                           Gintama°   \n",
       "3      9253                                        Steins;Gate   \n",
       "4      9969                                      Gintama&#039;   \n",
       "5     32935  Haikyuu!!: Karasuno Koukou VS Shiratorizawa Ga...   \n",
       "6     11061                             Hunter x Hunter (2011)   \n",
       "7       820                               Ginga Eiyuu Densetsu   \n",
       "8     15335  Gintama Movie: Kanketsu-hen - Yorozuya yo Eien...   \n",
       "9     15417                           Gintama&#039;: Enchousen   \n",
       "\n",
       "                                               genre   type episodes  rating  \\\n",
       "0               Drama, Romance, School, Supernatural  Movie        1    9.37   \n",
       "1  Action, Adventure, Drama, Fantasy, Magic, Mili...     TV       64    9.26   \n",
       "2  Action, Comedy, Historical, Parody, Samurai, S...     TV       51    9.25   \n",
       "3                                   Sci-Fi, Thriller     TV       24    9.17   \n",
       "4  Action, Comedy, Historical, Parody, Samurai, S...     TV       51    9.16   \n",
       "5             Comedy, Drama, School, Shounen, Sports     TV       10    9.15   \n",
       "6            Action, Adventure, Shounen, Super Power     TV      148    9.13   \n",
       "7                     Drama, Military, Sci-Fi, Space    OVA      110    9.11   \n",
       "8  Action, Comedy, Historical, Parody, Samurai, S...  Movie        1    9.10   \n",
       "9  Action, Comedy, Historical, Parody, Samurai, S...     TV       13    9.11   \n",
       "\n",
       "   members  \n",
       "0   200630  \n",
       "1   793665  \n",
       "2   114262  \n",
       "3   673572  \n",
       "4   151266  \n",
       "5    93351  \n",
       "6   425855  \n",
       "7    80679  \n",
       "8    72534  \n",
       "9    81109  "
      ]
     },
     "execution_count": 2,
     "metadata": {},
     "output_type": "execute_result"
    }
   ],
   "source": [
    "df=pd.read_csv(\"C:/Users/Admin/Downloads/Anime Recommendation Project/Datasets/Anime.csv\")\n",
    "df.head(10)"
   ]
  },
  {
   "cell_type": "code",
   "execution_count": 13,
   "id": "577bfa3b-f749-4738-9016-663c8562a0f2",
   "metadata": {},
   "outputs": [
    {
     "name": "stdout",
     "output_type": "stream",
     "text": [
      "Number of Columns/attributes/variables:  7\n",
      "Number of Rows:  12294\n"
     ]
    }
   ],
   "source": [
    "print(\"Number of Columns/attributes/variables: \",df.shape[1])\n",
    "print(\"Number of Rows: \",df.shape[0])"
   ]
  },
  {
   "cell_type": "code",
   "execution_count": 15,
   "id": "05300e98-5faa-4c98-a2b6-76f0d8b35930",
   "metadata": {},
   "outputs": [
    {
     "name": "stdout",
     "output_type": "stream",
     "text": [
      "Datatypes of each attribute: \n",
      " anime_id      int64\n",
      "name         object\n",
      "genre        object\n",
      "type         object\n",
      "episodes     object\n",
      "rating      float64\n",
      "members       int64\n",
      "dtype: object\n"
     ]
    }
   ],
   "source": [
    "print(\"Datatypes of each attribute: \\n\",df.dtypes)"
   ]
  },
  {
   "cell_type": "code",
   "execution_count": 16,
   "id": "75dfb188-d4cf-4489-bd52-246ce9ee2f49",
   "metadata": {},
   "outputs": [
    {
     "name": "stderr",
     "output_type": "stream",
     "text": [
      "C:\\Users\\Admin\\AppData\\Local\\Temp\\ipykernel_10500\\2343627134.py:1: FutureWarning: A value is trying to be set on a copy of a DataFrame or Series through chained assignment using an inplace method.\n",
      "The behavior will change in pandas 3.0. This inplace method will never work because the intermediate object on which we are setting values always behaves as a copy.\n",
      "\n",
      "For example, when doing 'df[col].method(value, inplace=True)', try using 'df.method({col: value}, inplace=True)' or df[col] = df[col].method(value) instead, to perform the operation inplace on the original object.\n",
      "\n",
      "\n",
      "  df['episodes'].replace('Unknown', pd.NA, inplace=True)\n"
     ]
    },
    {
     "name": "stdout",
     "output_type": "stream",
     "text": [
      "Updated datatype: Int64\n"
     ]
    }
   ],
   "source": [
    "df['episodes'].replace('Unknown', pd.NA, inplace=True)\n",
    "df['episodes'] = df['episodes'].astype('Int64')\n",
    "print(\"Updated datatype:\",df['episodes'].dtype)"
   ]
  },
  {
   "cell_type": "code",
   "execution_count": 17,
   "id": "95762c67-730f-4b32-983b-78f192c89e51",
   "metadata": {},
   "outputs": [
    {
     "name": "stdout",
     "output_type": "stream",
     "text": [
      "Descriptive Statistics of Numerical attributes: \n",
      "            anime_id   episodes        rating       members\n",
      "count  12294.000000    11954.0  12064.000000  1.229400e+04\n",
      "mean   14058.221653   12.38255      6.473902  1.807134e+04\n",
      "std    11455.294701  46.865352      1.026746  5.482068e+04\n",
      "min        1.000000        1.0      1.670000  5.000000e+00\n",
      "25%     3484.250000        1.0      5.880000  2.250000e+02\n",
      "50%    10260.500000        2.0      6.570000  1.550000e+03\n",
      "75%    24794.500000       12.0      7.180000  9.437000e+03\n",
      "max    34527.000000     1818.0     10.000000  1.013917e+06\n"
     ]
    }
   ],
   "source": [
    "print(\"Descriptive Statistics of Numerical attributes: \\n\",df.describe())"
   ]
  },
  {
   "cell_type": "markdown",
   "id": "33e875d0-325e-4ab1-a65f-4743137bc448",
   "metadata": {},
   "source": [
    "# DATA CLEANING "
   ]
  },
  {
   "cell_type": "markdown",
   "id": "a94083d0-e4c8-46ba-abf7-99d3d87d0bdd",
   "metadata": {},
   "source": [
    "\n",
    " Duplicate Value Analysis "
   ]
  },
  {
   "cell_type": "code",
   "execution_count": 18,
   "id": "df69a829-99cb-4d6a-9758-5f7e86d622c6",
   "metadata": {},
   "outputs": [
    {
     "name": "stdout",
     "output_type": "stream",
     "text": [
      "No. of duplicate rows: 0\n"
     ]
    }
   ],
   "source": [
    "print(\"No. of duplicate rows:\",df.duplicated().sum())"
   ]
  },
  {
   "cell_type": "markdown",
   "id": "97270f20-294e-4e2e-9dbb-b0689ef54043",
   "metadata": {},
   "source": [
    "Missing Value Analysis"
   ]
  },
  {
   "cell_type": "code",
   "execution_count": 19,
   "id": "1e8e26cd-fe96-4202-a7a5-bf588a1d9326",
   "metadata": {},
   "outputs": [
    {
     "name": "stdout",
     "output_type": "stream",
     "text": [
      "Number of Missing values in each attribute:\n",
      "anime_id      0\n",
      "name          0\n",
      "genre        62\n",
      "type         25\n",
      "episodes    340\n",
      "rating      230\n",
      "members       0\n",
      "dtype: int64\n"
     ]
    }
   ],
   "source": [
    "print(\"Number of Missing values in each attribute:\")\n",
    "print(df.isnull().sum())"
   ]
  },
  {
   "cell_type": "code",
   "execution_count": 20,
   "id": "eaca4df7-28e0-4754-b614-c049ee629d12",
   "metadata": {},
   "outputs": [],
   "source": [
    "#Let's remove all missing values for simplicity.\n",
    "df_cleaned = df.dropna()\n"
   ]
  },
  {
   "cell_type": "code",
   "execution_count": 21,
   "id": "bcaebcec-7b19-4f9c-9829-1a00bd0cdabe",
   "metadata": {},
   "outputs": [
    {
     "data": {
      "text/plain": [
       "anime_id    0\n",
       "name        0\n",
       "genre       0\n",
       "type        0\n",
       "episodes    0\n",
       "rating      0\n",
       "members     0\n",
       "dtype: int64"
      ]
     },
     "execution_count": 21,
     "metadata": {},
     "output_type": "execute_result"
    }
   ],
   "source": [
    "df_cleaned.isnull().sum()"
   ]
  },
  {
   "cell_type": "markdown",
   "id": "ac5e7c06-4fe8-4b47-8389-b402edcf1f01",
   "metadata": {},
   "source": [
    "# EXPORATORY DATA ANALYSIS"
   ]
  },
  {
   "cell_type": "markdown",
   "id": "6647adc9-f2e0-489f-856b-97804ef691ea",
   "metadata": {},
   "source": [
    "1.Understand audience preferences for different mediums (TV, Movie,  etc.)\n",
    "\n",
    "2.Explore whether viewers favor longer or shorter series\n",
    "\n",
    "3.Examine the potential relationship between the number of episodes and ratings\n",
    "\n",
    "4.Determine the highest-rated anime genres"
   ]
  },
  {
   "cell_type": "code",
   "execution_count": 22,
   "id": "214f2ed5-b693-49b0-a0d7-f5a46f4842b5",
   "metadata": {},
   "outputs": [
    {
     "data": {
      "text/html": [
       "<div>\n",
       "<style scoped>\n",
       "    .dataframe tbody tr th:only-of-type {\n",
       "        vertical-align: middle;\n",
       "    }\n",
       "\n",
       "    .dataframe tbody tr th {\n",
       "        vertical-align: top;\n",
       "    }\n",
       "\n",
       "    .dataframe thead th {\n",
       "        text-align: right;\n",
       "    }\n",
       "</style>\n",
       "<table border=\"1\" class=\"dataframe\">\n",
       "  <thead>\n",
       "    <tr style=\"text-align: right;\">\n",
       "      <th></th>\n",
       "      <th>anime_id</th>\n",
       "      <th>name</th>\n",
       "      <th>genre</th>\n",
       "      <th>type</th>\n",
       "      <th>episodes</th>\n",
       "      <th>rating</th>\n",
       "      <th>members</th>\n",
       "    </tr>\n",
       "  </thead>\n",
       "  <tbody>\n",
       "    <tr>\n",
       "      <th>0</th>\n",
       "      <td>32281</td>\n",
       "      <td>Kimi no Na wa.</td>\n",
       "      <td>Drama, Romance, School, Supernatural</td>\n",
       "      <td>Movie</td>\n",
       "      <td>1</td>\n",
       "      <td>9.37</td>\n",
       "      <td>200630</td>\n",
       "    </tr>\n",
       "    <tr>\n",
       "      <th>1</th>\n",
       "      <td>5114</td>\n",
       "      <td>Fullmetal Alchemist: Brotherhood</td>\n",
       "      <td>Action, Adventure, Drama, Fantasy, Magic, Mili...</td>\n",
       "      <td>TV</td>\n",
       "      <td>64</td>\n",
       "      <td>9.26</td>\n",
       "      <td>793665</td>\n",
       "    </tr>\n",
       "    <tr>\n",
       "      <th>2</th>\n",
       "      <td>28977</td>\n",
       "      <td>Gintama°</td>\n",
       "      <td>Action, Comedy, Historical, Parody, Samurai, S...</td>\n",
       "      <td>TV</td>\n",
       "      <td>51</td>\n",
       "      <td>9.25</td>\n",
       "      <td>114262</td>\n",
       "    </tr>\n",
       "    <tr>\n",
       "      <th>3</th>\n",
       "      <td>9253</td>\n",
       "      <td>Steins;Gate</td>\n",
       "      <td>Sci-Fi, Thriller</td>\n",
       "      <td>TV</td>\n",
       "      <td>24</td>\n",
       "      <td>9.17</td>\n",
       "      <td>673572</td>\n",
       "    </tr>\n",
       "    <tr>\n",
       "      <th>4</th>\n",
       "      <td>9969</td>\n",
       "      <td>Gintama&amp;#039;</td>\n",
       "      <td>Action, Comedy, Historical, Parody, Samurai, S...</td>\n",
       "      <td>TV</td>\n",
       "      <td>51</td>\n",
       "      <td>9.16</td>\n",
       "      <td>151266</td>\n",
       "    </tr>\n",
       "    <tr>\n",
       "      <th>...</th>\n",
       "      <td>...</td>\n",
       "      <td>...</td>\n",
       "      <td>...</td>\n",
       "      <td>...</td>\n",
       "      <td>...</td>\n",
       "      <td>...</td>\n",
       "      <td>...</td>\n",
       "    </tr>\n",
       "    <tr>\n",
       "      <th>12289</th>\n",
       "      <td>9316</td>\n",
       "      <td>Toushindai My Lover: Minami tai Mecha-Minami</td>\n",
       "      <td>Hentai</td>\n",
       "      <td>OVA</td>\n",
       "      <td>1</td>\n",
       "      <td>4.15</td>\n",
       "      <td>211</td>\n",
       "    </tr>\n",
       "    <tr>\n",
       "      <th>12290</th>\n",
       "      <td>5543</td>\n",
       "      <td>Under World</td>\n",
       "      <td>Hentai</td>\n",
       "      <td>OVA</td>\n",
       "      <td>1</td>\n",
       "      <td>4.28</td>\n",
       "      <td>183</td>\n",
       "    </tr>\n",
       "    <tr>\n",
       "      <th>12291</th>\n",
       "      <td>5621</td>\n",
       "      <td>Violence Gekiga David no Hoshi</td>\n",
       "      <td>Hentai</td>\n",
       "      <td>OVA</td>\n",
       "      <td>4</td>\n",
       "      <td>4.88</td>\n",
       "      <td>219</td>\n",
       "    </tr>\n",
       "    <tr>\n",
       "      <th>12292</th>\n",
       "      <td>6133</td>\n",
       "      <td>Violence Gekiga Shin David no Hoshi: Inma Dens...</td>\n",
       "      <td>Hentai</td>\n",
       "      <td>OVA</td>\n",
       "      <td>1</td>\n",
       "      <td>4.98</td>\n",
       "      <td>175</td>\n",
       "    </tr>\n",
       "    <tr>\n",
       "      <th>12293</th>\n",
       "      <td>26081</td>\n",
       "      <td>Yasuji no Pornorama: Yacchimae!!</td>\n",
       "      <td>Hentai</td>\n",
       "      <td>Movie</td>\n",
       "      <td>1</td>\n",
       "      <td>5.46</td>\n",
       "      <td>142</td>\n",
       "    </tr>\n",
       "  </tbody>\n",
       "</table>\n",
       "<p>11830 rows × 7 columns</p>\n",
       "</div>"
      ],
      "text/plain": [
       "       anime_id                                               name  \\\n",
       "0         32281                                     Kimi no Na wa.   \n",
       "1          5114                   Fullmetal Alchemist: Brotherhood   \n",
       "2         28977                                           Gintama°   \n",
       "3          9253                                        Steins;Gate   \n",
       "4          9969                                      Gintama&#039;   \n",
       "...         ...                                                ...   \n",
       "12289      9316       Toushindai My Lover: Minami tai Mecha-Minami   \n",
       "12290      5543                                        Under World   \n",
       "12291      5621                     Violence Gekiga David no Hoshi   \n",
       "12292      6133  Violence Gekiga Shin David no Hoshi: Inma Dens...   \n",
       "12293     26081                   Yasuji no Pornorama: Yacchimae!!   \n",
       "\n",
       "                                                   genre   type  episodes  \\\n",
       "0                   Drama, Romance, School, Supernatural  Movie         1   \n",
       "1      Action, Adventure, Drama, Fantasy, Magic, Mili...     TV        64   \n",
       "2      Action, Comedy, Historical, Parody, Samurai, S...     TV        51   \n",
       "3                                       Sci-Fi, Thriller     TV        24   \n",
       "4      Action, Comedy, Historical, Parody, Samurai, S...     TV        51   \n",
       "...                                                  ...    ...       ...   \n",
       "12289                                             Hentai    OVA         1   \n",
       "12290                                             Hentai    OVA         1   \n",
       "12291                                             Hentai    OVA         4   \n",
       "12292                                             Hentai    OVA         1   \n",
       "12293                                             Hentai  Movie         1   \n",
       "\n",
       "       rating  members  \n",
       "0        9.37   200630  \n",
       "1        9.26   793665  \n",
       "2        9.25   114262  \n",
       "3        9.17   673572  \n",
       "4        9.16   151266  \n",
       "...       ...      ...  \n",
       "12289    4.15      211  \n",
       "12290    4.28      183  \n",
       "12291    4.88      219  \n",
       "12292    4.98      175  \n",
       "12293    5.46      142  \n",
       "\n",
       "[11830 rows x 7 columns]"
      ]
     },
     "execution_count": 22,
     "metadata": {},
     "output_type": "execute_result"
    }
   ],
   "source": [
    "df_cleaned"
   ]
  },
  {
   "cell_type": "markdown",
   "id": "789d02f3-dae8-42b3-9f35-2c9334a781df",
   "metadata": {},
   "source": [
    "Preferred Medium\n",
    "\n",
    "Let's make a barplot depicting the number of people who prefer a particular medium"
   ]
  },
  {
   "cell_type": "code",
   "execution_count": 23,
   "id": "68f839f5-7b3e-4ef0-a766-332cfce97e9c",
   "metadata": {},
   "outputs": [
    {
     "data": {
      "text/plain": [
       "Text(0.5, 1.0, 'Preferred Medium')"
      ]
     },
     "execution_count": 23,
     "metadata": {},
     "output_type": "execute_result"
    },
    {
     "data": {
      "image/png": "[encoded data removed]",
      "text/plain": [
       "<Figure size 640x480 with 1 Axes>"
      ]
     },
     "metadata": {},
     "output_type": "display_data"
    }
   ],
   "source": [
    "types=df_cleaned.type.unique()\n",
    "freq=[]\n",
    "for i in types:\n",
    "    count=0\n",
    "    for j in range(1,df_cleaned.shape[0]):\n",
    "        if(df_cleaned.iloc[j,3]==i):\n",
    "            count+=1\n",
    "    freq.append(count)\n",
    "sns.barplot(x=types, y=freq)\n",
    "plt.xlabel('Type') \n",
    "plt.ylabel('No. of people')\n",
    "plt.title('Preferred Medium')"
   ]
  },
  {
   "cell_type": "markdown",
   "id": "cdd9dfe2-09a3-4f77-afe6-42e3f050c611",
   "metadata": {},
   "source": [
    "Explore viewer preferences for series length."
   ]
  },
  {
   "cell_type": "code",
   "execution_count": 24,
   "id": "e17859ba-6f0b-4484-8cc0-5b672a6462df",
   "metadata": {},
   "outputs": [
    {
     "data": {
      "text/plain": [
       "186"
      ]
     },
     "execution_count": 24,
     "metadata": {},
     "output_type": "execute_result"
    }
   ],
   "source": [
    "epi=df_cleaned.episodes.unique()\n",
    "epi.shape[0]"
   ]
  },
  {
   "cell_type": "markdown",
   "id": "b5c7f274-e92d-4ea1-a8a2-c5d1bdcf50b9",
   "metadata": {},
   "source": [
    "As observed, there are numerous unique values. To enhance visualization, we'll conduct binning. Binning is a technique where you group continuous data into intervals or \"bins\" to simplify the analysis.\n",
    "\n",
    "\n",
    "Steps involved in Binning:\n",
    "\n",
    "1.Sort the data\n",
    "\n",
    "2.Determine the Number of Bins\n",
    "\n",
    "3.Choose Bin Edges\n",
    "\n",
    "4.Assign Labels\n",
    "\n",
    "5.Perform Binning"
   ]
  },
  {
   "cell_type": "code",
   "execution_count": 25,
   "id": "9ca3dc1b-38f9-493f-80dd-d58db8ffc434",
   "metadata": {},
   "outputs": [
    {
     "name": "stdout",
     "output_type": "stream",
     "text": [
      "No. of bins: 13\n",
      "Bin Width: 139.76923076923077\n",
      "Bin Edges: [   1  141  281  420  560  700  840  979 1119 1259 1399 1538 1678 1818]\n",
      "Bin Labels: ['Bin 1', 'Bin 2', 'Bin 3', 'Bin 4', 'Bin 5', 'Bin 6', 'Bin 7', 'Bin 8', 'Bin 9', 'Bin 10', 'Bin 11', 'Bin 12', 'Bin 13']\n"
     ]
    }
   ],
   "source": [
    "#Sort the data\n",
    "sorted_epi=sorted(epi)\n",
    "\n",
    "#Determine the number of bins: Using Square Root Rule\n",
    "num_bins = int(np.sqrt(len(sorted_epi)))\n",
    "print(\"No. of bins:\",num_bins)\n",
    "\n",
    "#Choose bin edges: Using Equal Width Binning\n",
    "bin_width = (max(sorted_epi) - min(sorted_epi)) / num_bins\n",
    "bin_edges = np.arange(min(sorted_epi), max(sorted_epi) + bin_width, bin_width).round().astype(int)\n",
    "print(\"Bin Width:\",bin_width)\n",
    "print(\"Bin Edges:\",bin_edges)\n",
    "\n",
    "#Assign labels\n",
    "bin_labels = [f'Bin {i}' for i in range(1, len(bin_edges))]\n",
    "print(\"Bin Labels:\",bin_labels)\n",
    "\n",
    "#Perform Binning\n",
    "binned_data = pd.cut(sorted_epi, bins=bin_edges, labels=bin_labels, include_lowest=True)\n",
    "df_epi_bin = pd.DataFrame({'Original Data': sorted_epi, 'Binned Data': binned_data})"
   ]
  },
  {
   "cell_type": "code",
   "execution_count": 26,
   "id": "c08e4cc9-3fa8-4758-96e4-a93f84237493",
   "metadata": {},
   "outputs": [
    {
     "data": {
      "text/html": [
       "<div>\n",
       "<style scoped>\n",
       "    .dataframe tbody tr th:only-of-type {\n",
       "        vertical-align: middle;\n",
       "    }\n",
       "\n",
       "    .dataframe tbody tr th {\n",
       "        vertical-align: top;\n",
       "    }\n",
       "\n",
       "    .dataframe thead th {\n",
       "        text-align: right;\n",
       "    }\n",
       "</style>\n",
       "<table border=\"1\" class=\"dataframe\">\n",
       "  <thead>\n",
       "    <tr style=\"text-align: right;\">\n",
       "      <th></th>\n",
       "      <th>Original Data</th>\n",
       "      <th>Binned Data</th>\n",
       "    </tr>\n",
       "  </thead>\n",
       "  <tbody>\n",
       "    <tr>\n",
       "      <th>0</th>\n",
       "      <td>1</td>\n",
       "      <td>Bin 1</td>\n",
       "    </tr>\n",
       "    <tr>\n",
       "      <th>1</th>\n",
       "      <td>2</td>\n",
       "      <td>Bin 1</td>\n",
       "    </tr>\n",
       "    <tr>\n",
       "      <th>2</th>\n",
       "      <td>3</td>\n",
       "      <td>Bin 1</td>\n",
       "    </tr>\n",
       "    <tr>\n",
       "      <th>3</th>\n",
       "      <td>4</td>\n",
       "      <td>Bin 1</td>\n",
       "    </tr>\n",
       "    <tr>\n",
       "      <th>4</th>\n",
       "      <td>5</td>\n",
       "      <td>Bin 1</td>\n",
       "    </tr>\n",
       "    <tr>\n",
       "      <th>...</th>\n",
       "      <td>...</td>\n",
       "      <td>...</td>\n",
       "    </tr>\n",
       "    <tr>\n",
       "      <th>181</th>\n",
       "      <td>1428</td>\n",
       "      <td>Bin 11</td>\n",
       "    </tr>\n",
       "    <tr>\n",
       "      <th>182</th>\n",
       "      <td>1471</td>\n",
       "      <td>Bin 11</td>\n",
       "    </tr>\n",
       "    <tr>\n",
       "      <th>183</th>\n",
       "      <td>1565</td>\n",
       "      <td>Bin 12</td>\n",
       "    </tr>\n",
       "    <tr>\n",
       "      <th>184</th>\n",
       "      <td>1787</td>\n",
       "      <td>Bin 13</td>\n",
       "    </tr>\n",
       "    <tr>\n",
       "      <th>185</th>\n",
       "      <td>1818</td>\n",
       "      <td>Bin 13</td>\n",
       "    </tr>\n",
       "  </tbody>\n",
       "</table>\n",
       "<p>186 rows × 2 columns</p>\n",
       "</div>"
      ],
      "text/plain": [
       "     Original Data Binned Data\n",
       "0                1       Bin 1\n",
       "1                2       Bin 1\n",
       "2                3       Bin 1\n",
       "3                4       Bin 1\n",
       "4                5       Bin 1\n",
       "..             ...         ...\n",
       "181           1428      Bin 11\n",
       "182           1471      Bin 11\n",
       "183           1565      Bin 12\n",
       "184           1787      Bin 13\n",
       "185           1818      Bin 13\n",
       "\n",
       "[186 rows x 2 columns]"
      ]
     },
     "execution_count": 26,
     "metadata": {},
     "output_type": "execute_result"
    }
   ],
   "source": [
    "df_epi_bin"
   ]
  },
  {
   "cell_type": "markdown",
   "id": "67d2b4ec-0ce6-4b88-98b8-07c3b0936089",
   "metadata": {},
   "source": [
    "Now Let's Visualise this"
   ]
  },
  {
   "cell_type": "code",
   "execution_count": 27,
   "id": "e8f99bce-0943-4473-857e-4a85c7a23895",
   "metadata": {},
   "outputs": [
    {
     "name": "stderr",
     "output_type": "stream",
     "text": [
      "C:\\Users\\Admin\\AppData\\Local\\Temp\\ipykernel_10500\\1657206783.py:2: FutureWarning: \n",
      "\n",
      "Passing `palette` without assigning `hue` is deprecated and will be removed in v0.14.0. Assign the `x` variable to `hue` and set `legend=False` for the same effect.\n",
      "\n",
      "  sns.countplot(x='Binned Data', data=df_epi_bin, palette='viridis')\n"
     ]
    },
    {
     "data": {
      "text/plain": [
       "Text(0.5, 1.0, 'Viewer Preferences for Series length')"
      ]
     },
     "execution_count": 27,
     "metadata": {},
     "output_type": "execute_result"
    },
    {
     "data": {
      "image/png": "[encoded data removed]",
      "text/plain": [
       "<Figure size 1000x600 with 1 Axes>"
      ]
     },
     "metadata": {},
     "output_type": "display_data"
    }
   ],
   "source": [
    "plt.figure(figsize=(10, 6))\n",
    "sns.countplot(x='Binned Data', data=df_epi_bin, palette='viridis')\n",
    "plt.xlabel('Bins')\n",
    "plt.ylabel('Count')\n",
    "plt.title('Viewer Preferences for Series length')"
   ]
  },
  {
   "cell_type": "code",
   "execution_count": 28,
   "id": "5ee45682-7723-492e-948d-963c653c6f2f",
   "metadata": {
    "scrolled": true
   },
   "outputs": [
    {
     "data": {
      "image/png": "[encoded data removed]",
      "text/plain": [
       "<Figure size 800x800 with 1 Axes>"
      ]
     },
     "metadata": {},
     "output_type": "display_data"
    }
   ],
   "source": [
    "# Load dataset\n",
    "anime = pd.read_csv(\"C:/Users/Admin/Downloads/Anime Recommendation Project/Datasets/Anime.csv\")\n",
    "\n",
    "# Count anime types\n",
    "type_counts = anime['type'].value_counts()\n",
    "\n",
    "# Plot pie chart\n",
    "plt.figure(figsize=(8, 8))\n",
    "plt.pie(type_counts, labels=type_counts.index, autopct='%1.1f%%', startangle=140, colors=plt.cm.Paired.colors)\n",
    "plt.title('Distribution of Anime Types')\n",
    "plt.tight_layout()\n",
    "plt.show()"
   ]
  },
  {
   "cell_type": "markdown",
   "id": "078f70e2-ccc6-4d4f-924c-bac0b06f8183",
   "metadata": {},
   "source": [
    "This indicates a prevalent preference for shorter series, particularly those with 1-141 episodes, as opposed to longer ones. The majority of viewers tend to avoid series with a higher episode count. Completing series with over 500 episodes appears to be a rarity, with only a very small number of individuals accomplishing this feat."
   ]
  },
  {
   "cell_type": "markdown",
   "id": "a8b576ee-f7ab-4e43-b2d2-f724e5431265",
   "metadata": {},
   "source": [
    "Examine the potential relationship between the number of episodes and ratings"
   ]
  },
  {
   "cell_type": "code",
   "execution_count": 30,
   "id": "39073cdf-379f-45d4-9b1b-aa840d5feb10",
   "metadata": {},
   "outputs": [
    {
     "data": {
      "image/png": "[encoded data removed]",
      "text/plain": [
       "<Figure size 640x480 with 1 Axes>"
      ]
     },
     "metadata": {},
     "output_type": "display_data"
    }
   ],
   "source": [
    "\n",
    "sns.scatterplot(x=df_cleaned['episodes'], y=df_cleaned['rating'])\n",
    "plt.xlabel('Number of Episodes')\n",
    "plt.ylabel('Ratings')\n",
    "plt.title('Number of Episodes vs Ratings')\n",
    "plt.show()"
   ]
  },
  {
   "cell_type": "markdown",
   "id": "fac8b6c5-1338-4733-9088-2e7568cd75d5",
   "metadata": {},
   "source": [
    "Highest-rated anime genres"
   ]
  },
  {
   "cell_type": "code",
   "execution_count": 31,
   "id": "0ecbd811-9cf7-4ff6-9802-fc8907f17737",
   "metadata": {},
   "outputs": [
    {
     "name": "stderr",
     "output_type": "stream",
     "text": [
      "C:\\Users\\Admin\\AppData\\Local\\Temp\\ipykernel_10500\\460795529.py:2: SettingWithCopyWarning: \n",
      "A value is trying to be set on a copy of a slice from a DataFrame.\n",
      "Try using .loc[row_indexer,col_indexer] = value instead\n",
      "\n",
      "See the caveats in the documentation: https://pandas.pydata.org/pandas-docs/stable/user_guide/indexing.html#returning-a-view-versus-a-copy\n",
      "  df_g['genres'] = df_g['genre'].str.split(', ')\n"
     ]
    }
   ],
   "source": [
    "df_g=df_cleaned\n",
    "df_g['genres'] = df_g['genre'].str.split(', ')"
   ]
  },
  {
   "cell_type": "code",
   "execution_count": 32,
   "id": "44487e3b-eecb-4db7-ad05-e09a7d1124b4",
   "metadata": {},
   "outputs": [
    {
     "data": {
      "text/html": [
       "<div>\n",
       "<style scoped>\n",
       "    .dataframe tbody tr th:only-of-type {\n",
       "        vertical-align: middle;\n",
       "    }\n",
       "\n",
       "    .dataframe tbody tr th {\n",
       "        vertical-align: top;\n",
       "    }\n",
       "\n",
       "    .dataframe thead th {\n",
       "        text-align: right;\n",
       "    }\n",
       "</style>\n",
       "<table border=\"1\" class=\"dataframe\">\n",
       "  <thead>\n",
       "    <tr style=\"text-align: right;\">\n",
       "      <th></th>\n",
       "      <th>anime_id</th>\n",
       "      <th>name</th>\n",
       "      <th>genre</th>\n",
       "      <th>type</th>\n",
       "      <th>episodes</th>\n",
       "      <th>rating</th>\n",
       "      <th>members</th>\n",
       "      <th>genres</th>\n",
       "    </tr>\n",
       "  </thead>\n",
       "  <tbody>\n",
       "    <tr>\n",
       "      <th>0</th>\n",
       "      <td>32281</td>\n",
       "      <td>Kimi no Na wa.</td>\n",
       "      <td>Drama, Romance, School, Supernatural</td>\n",
       "      <td>Movie</td>\n",
       "      <td>1</td>\n",
       "      <td>9.37</td>\n",
       "      <td>200630</td>\n",
       "      <td>[Drama, Romance, School, Supernatural]</td>\n",
       "    </tr>\n",
       "    <tr>\n",
       "      <th>1</th>\n",
       "      <td>5114</td>\n",
       "      <td>Fullmetal Alchemist: Brotherhood</td>\n",
       "      <td>Action, Adventure, Drama, Fantasy, Magic, Mili...</td>\n",
       "      <td>TV</td>\n",
       "      <td>64</td>\n",
       "      <td>9.26</td>\n",
       "      <td>793665</td>\n",
       "      <td>[Action, Adventure, Drama, Fantasy, Magic, Mil...</td>\n",
       "    </tr>\n",
       "    <tr>\n",
       "      <th>2</th>\n",
       "      <td>28977</td>\n",
       "      <td>Gintama°</td>\n",
       "      <td>Action, Comedy, Historical, Parody, Samurai, S...</td>\n",
       "      <td>TV</td>\n",
       "      <td>51</td>\n",
       "      <td>9.25</td>\n",
       "      <td>114262</td>\n",
       "      <td>[Action, Comedy, Historical, Parody, Samurai, ...</td>\n",
       "    </tr>\n",
       "    <tr>\n",
       "      <th>3</th>\n",
       "      <td>9253</td>\n",
       "      <td>Steins;Gate</td>\n",
       "      <td>Sci-Fi, Thriller</td>\n",
       "      <td>TV</td>\n",
       "      <td>24</td>\n",
       "      <td>9.17</td>\n",
       "      <td>673572</td>\n",
       "      <td>[Sci-Fi, Thriller]</td>\n",
       "    </tr>\n",
       "    <tr>\n",
       "      <th>4</th>\n",
       "      <td>9969</td>\n",
       "      <td>Gintama&amp;#039;</td>\n",
       "      <td>Action, Comedy, Historical, Parody, Samurai, S...</td>\n",
       "      <td>TV</td>\n",
       "      <td>51</td>\n",
       "      <td>9.16</td>\n",
       "      <td>151266</td>\n",
       "      <td>[Action, Comedy, Historical, Parody, Samurai, ...</td>\n",
       "    </tr>\n",
       "    <tr>\n",
       "      <th>...</th>\n",
       "      <td>...</td>\n",
       "      <td>...</td>\n",
       "      <td>...</td>\n",
       "      <td>...</td>\n",
       "      <td>...</td>\n",
       "      <td>...</td>\n",
       "      <td>...</td>\n",
       "      <td>...</td>\n",
       "    </tr>\n",
       "    <tr>\n",
       "      <th>12289</th>\n",
       "      <td>9316</td>\n",
       "      <td>Toushindai My Lover: Minami tai Mecha-Minami</td>\n",
       "      <td>Hentai</td>\n",
       "      <td>OVA</td>\n",
       "      <td>1</td>\n",
       "      <td>4.15</td>\n",
       "      <td>211</td>\n",
       "      <td>[Hentai]</td>\n",
       "    </tr>\n",
       "    <tr>\n",
       "      <th>12290</th>\n",
       "      <td>5543</td>\n",
       "      <td>Under World</td>\n",
       "      <td>Hentai</td>\n",
       "      <td>OVA</td>\n",
       "      <td>1</td>\n",
       "      <td>4.28</td>\n",
       "      <td>183</td>\n",
       "      <td>[Hentai]</td>\n",
       "    </tr>\n",
       "    <tr>\n",
       "      <th>12291</th>\n",
       "      <td>5621</td>\n",
       "      <td>Violence Gekiga David no Hoshi</td>\n",
       "      <td>Hentai</td>\n",
       "      <td>OVA</td>\n",
       "      <td>4</td>\n",
       "      <td>4.88</td>\n",
       "      <td>219</td>\n",
       "      <td>[Hentai]</td>\n",
       "    </tr>\n",
       "    <tr>\n",
       "      <th>12292</th>\n",
       "      <td>6133</td>\n",
       "      <td>Violence Gekiga Shin David no Hoshi: Inma Dens...</td>\n",
       "      <td>Hentai</td>\n",
       "      <td>OVA</td>\n",
       "      <td>1</td>\n",
       "      <td>4.98</td>\n",
       "      <td>175</td>\n",
       "      <td>[Hentai]</td>\n",
       "    </tr>\n",
       "    <tr>\n",
       "      <th>12293</th>\n",
       "      <td>26081</td>\n",
       "      <td>Yasuji no Pornorama: Yacchimae!!</td>\n",
       "      <td>Hentai</td>\n",
       "      <td>Movie</td>\n",
       "      <td>1</td>\n",
       "      <td>5.46</td>\n",
       "      <td>142</td>\n",
       "      <td>[Hentai]</td>\n",
       "    </tr>\n",
       "  </tbody>\n",
       "</table>\n",
       "<p>11830 rows × 8 columns</p>\n",
       "</div>"
      ],
      "text/plain": [
       "       anime_id                                               name  \\\n",
       "0         32281                                     Kimi no Na wa.   \n",
       "1          5114                   Fullmetal Alchemist: Brotherhood   \n",
       "2         28977                                           Gintama°   \n",
       "3          9253                                        Steins;Gate   \n",
       "4          9969                                      Gintama&#039;   \n",
       "...         ...                                                ...   \n",
       "12289      9316       Toushindai My Lover: Minami tai Mecha-Minami   \n",
       "12290      5543                                        Under World   \n",
       "12291      5621                     Violence Gekiga David no Hoshi   \n",
       "12292      6133  Violence Gekiga Shin David no Hoshi: Inma Dens...   \n",
       "12293     26081                   Yasuji no Pornorama: Yacchimae!!   \n",
       "\n",
       "                                                   genre   type  episodes  \\\n",
       "0                   Drama, Romance, School, Supernatural  Movie         1   \n",
       "1      Action, Adventure, Drama, Fantasy, Magic, Mili...     TV        64   \n",
       "2      Action, Comedy, Historical, Parody, Samurai, S...     TV        51   \n",
       "3                                       Sci-Fi, Thriller     TV        24   \n",
       "4      Action, Comedy, Historical, Parody, Samurai, S...     TV        51   \n",
       "...                                                  ...    ...       ...   \n",
       "12289                                             Hentai    OVA         1   \n",
       "12290                                             Hentai    OVA         1   \n",
       "12291                                             Hentai    OVA         4   \n",
       "12292                                             Hentai    OVA         1   \n",
       "12293                                             Hentai  Movie         1   \n",
       "\n",
       "       rating  members                                             genres  \n",
       "0        9.37   200630             [Drama, Romance, School, Supernatural]  \n",
       "1        9.26   793665  [Action, Adventure, Drama, Fantasy, Magic, Mil...  \n",
       "2        9.25   114262  [Action, Comedy, Historical, Parody, Samurai, ...  \n",
       "3        9.17   673572                                 [Sci-Fi, Thriller]  \n",
       "4        9.16   151266  [Action, Comedy, Historical, Parody, Samurai, ...  \n",
       "...       ...      ...                                                ...  \n",
       "12289    4.15      211                                           [Hentai]  \n",
       "12290    4.28      183                                           [Hentai]  \n",
       "12291    4.88      219                                           [Hentai]  \n",
       "12292    4.98      175                                           [Hentai]  \n",
       "12293    5.46      142                                           [Hentai]  \n",
       "\n",
       "[11830 rows x 8 columns]"
      ]
     },
     "execution_count": 32,
     "metadata": {},
     "output_type": "execute_result"
    }
   ],
   "source": [
    "df_g"
   ]
  },
  {
   "cell_type": "code",
   "execution_count": 33,
   "id": "e35ff3bd-6de5-4d88-8dce-3aacf45081fa",
   "metadata": {},
   "outputs": [
    {
     "data": {
      "text/html": [
       "<div>\n",
       "<style scoped>\n",
       "    .dataframe tbody tr th:only-of-type {\n",
       "        vertical-align: middle;\n",
       "    }\n",
       "\n",
       "    .dataframe tbody tr th {\n",
       "        vertical-align: top;\n",
       "    }\n",
       "\n",
       "    .dataframe thead th {\n",
       "        text-align: right;\n",
       "    }\n",
       "</style>\n",
       "<table border=\"1\" class=\"dataframe\">\n",
       "  <thead>\n",
       "    <tr style=\"text-align: right;\">\n",
       "      <th></th>\n",
       "      <th>anime_id</th>\n",
       "      <th>name</th>\n",
       "      <th>genre</th>\n",
       "      <th>type</th>\n",
       "      <th>episodes</th>\n",
       "      <th>rating</th>\n",
       "      <th>members</th>\n",
       "      <th>genres</th>\n",
       "    </tr>\n",
       "  </thead>\n",
       "  <tbody>\n",
       "    <tr>\n",
       "      <th>0</th>\n",
       "      <td>32281</td>\n",
       "      <td>Kimi no Na wa.</td>\n",
       "      <td>Drama, Romance, School, Supernatural</td>\n",
       "      <td>Movie</td>\n",
       "      <td>1</td>\n",
       "      <td>9.37</td>\n",
       "      <td>200630</td>\n",
       "      <td>Drama</td>\n",
       "    </tr>\n",
       "    <tr>\n",
       "      <th>0</th>\n",
       "      <td>32281</td>\n",
       "      <td>Kimi no Na wa.</td>\n",
       "      <td>Drama, Romance, School, Supernatural</td>\n",
       "      <td>Movie</td>\n",
       "      <td>1</td>\n",
       "      <td>9.37</td>\n",
       "      <td>200630</td>\n",
       "      <td>Romance</td>\n",
       "    </tr>\n",
       "    <tr>\n",
       "      <th>0</th>\n",
       "      <td>32281</td>\n",
       "      <td>Kimi no Na wa.</td>\n",
       "      <td>Drama, Romance, School, Supernatural</td>\n",
       "      <td>Movie</td>\n",
       "      <td>1</td>\n",
       "      <td>9.37</td>\n",
       "      <td>200630</td>\n",
       "      <td>School</td>\n",
       "    </tr>\n",
       "    <tr>\n",
       "      <th>0</th>\n",
       "      <td>32281</td>\n",
       "      <td>Kimi no Na wa.</td>\n",
       "      <td>Drama, Romance, School, Supernatural</td>\n",
       "      <td>Movie</td>\n",
       "      <td>1</td>\n",
       "      <td>9.37</td>\n",
       "      <td>200630</td>\n",
       "      <td>Supernatural</td>\n",
       "    </tr>\n",
       "    <tr>\n",
       "      <th>1</th>\n",
       "      <td>5114</td>\n",
       "      <td>Fullmetal Alchemist: Brotherhood</td>\n",
       "      <td>Action, Adventure, Drama, Fantasy, Magic, Mili...</td>\n",
       "      <td>TV</td>\n",
       "      <td>64</td>\n",
       "      <td>9.26</td>\n",
       "      <td>793665</td>\n",
       "      <td>Action</td>\n",
       "    </tr>\n",
       "    <tr>\n",
       "      <th>...</th>\n",
       "      <td>...</td>\n",
       "      <td>...</td>\n",
       "      <td>...</td>\n",
       "      <td>...</td>\n",
       "      <td>...</td>\n",
       "      <td>...</td>\n",
       "      <td>...</td>\n",
       "      <td>...</td>\n",
       "    </tr>\n",
       "    <tr>\n",
       "      <th>12289</th>\n",
       "      <td>9316</td>\n",
       "      <td>Toushindai My Lover: Minami tai Mecha-Minami</td>\n",
       "      <td>Hentai</td>\n",
       "      <td>OVA</td>\n",
       "      <td>1</td>\n",
       "      <td>4.15</td>\n",
       "      <td>211</td>\n",
       "      <td>Hentai</td>\n",
       "    </tr>\n",
       "    <tr>\n",
       "      <th>12290</th>\n",
       "      <td>5543</td>\n",
       "      <td>Under World</td>\n",
       "      <td>Hentai</td>\n",
       "      <td>OVA</td>\n",
       "      <td>1</td>\n",
       "      <td>4.28</td>\n",
       "      <td>183</td>\n",
       "      <td>Hentai</td>\n",
       "    </tr>\n",
       "    <tr>\n",
       "      <th>12291</th>\n",
       "      <td>5621</td>\n",
       "      <td>Violence Gekiga David no Hoshi</td>\n",
       "      <td>Hentai</td>\n",
       "      <td>OVA</td>\n",
       "      <td>4</td>\n",
       "      <td>4.88</td>\n",
       "      <td>219</td>\n",
       "      <td>Hentai</td>\n",
       "    </tr>\n",
       "    <tr>\n",
       "      <th>12292</th>\n",
       "      <td>6133</td>\n",
       "      <td>Violence Gekiga Shin David no Hoshi: Inma Dens...</td>\n",
       "      <td>Hentai</td>\n",
       "      <td>OVA</td>\n",
       "      <td>1</td>\n",
       "      <td>4.98</td>\n",
       "      <td>175</td>\n",
       "      <td>Hentai</td>\n",
       "    </tr>\n",
       "    <tr>\n",
       "      <th>12293</th>\n",
       "      <td>26081</td>\n",
       "      <td>Yasuji no Pornorama: Yacchimae!!</td>\n",
       "      <td>Hentai</td>\n",
       "      <td>Movie</td>\n",
       "      <td>1</td>\n",
       "      <td>5.46</td>\n",
       "      <td>142</td>\n",
       "      <td>Hentai</td>\n",
       "    </tr>\n",
       "  </tbody>\n",
       "</table>\n",
       "<p>35201 rows × 8 columns</p>\n",
       "</div>"
      ],
      "text/plain": [
       "       anime_id                                               name  \\\n",
       "0         32281                                     Kimi no Na wa.   \n",
       "0         32281                                     Kimi no Na wa.   \n",
       "0         32281                                     Kimi no Na wa.   \n",
       "0         32281                                     Kimi no Na wa.   \n",
       "1          5114                   Fullmetal Alchemist: Brotherhood   \n",
       "...         ...                                                ...   \n",
       "12289      9316       Toushindai My Lover: Minami tai Mecha-Minami   \n",
       "12290      5543                                        Under World   \n",
       "12291      5621                     Violence Gekiga David no Hoshi   \n",
       "12292      6133  Violence Gekiga Shin David no Hoshi: Inma Dens...   \n",
       "12293     26081                   Yasuji no Pornorama: Yacchimae!!   \n",
       "\n",
       "                                                   genre   type  episodes  \\\n",
       "0                   Drama, Romance, School, Supernatural  Movie         1   \n",
       "0                   Drama, Romance, School, Supernatural  Movie         1   \n",
       "0                   Drama, Romance, School, Supernatural  Movie         1   \n",
       "0                   Drama, Romance, School, Supernatural  Movie         1   \n",
       "1      Action, Adventure, Drama, Fantasy, Magic, Mili...     TV        64   \n",
       "...                                                  ...    ...       ...   \n",
       "12289                                             Hentai    OVA         1   \n",
       "12290                                             Hentai    OVA         1   \n",
       "12291                                             Hentai    OVA         4   \n",
       "12292                                             Hentai    OVA         1   \n",
       "12293                                             Hentai  Movie         1   \n",
       "\n",
       "       rating  members        genres  \n",
       "0        9.37   200630         Drama  \n",
       "0        9.37   200630       Romance  \n",
       "0        9.37   200630        School  \n",
       "0        9.37   200630  Supernatural  \n",
       "1        9.26   793665        Action  \n",
       "...       ...      ...           ...  \n",
       "12289    4.15      211        Hentai  \n",
       "12290    4.28      183        Hentai  \n",
       "12291    4.88      219        Hentai  \n",
       "12292    4.98      175        Hentai  \n",
       "12293    5.46      142        Hentai  \n",
       "\n",
       "[35201 rows x 8 columns]"
      ]
     },
     "execution_count": 33,
     "metadata": {},
     "output_type": "execute_result"
    }
   ],
   "source": [
    "#Use the explode function to duplicate rows for each genre.\n",
    "dfg_exploded = df_g.explode('genres')\n",
    "dfg_exploded"
   ]
  },
  {
   "cell_type": "code",
   "execution_count": 34,
   "id": "bff48062-38f2-4240-bb85-a95c8d11d4df",
   "metadata": {},
   "outputs": [
    {
     "data": {
      "text/plain": [
       "genres\n",
       "Josei            7.443077\n",
       "Thriller         7.382326\n",
       "Mystery          7.233880\n",
       "Police           7.116237\n",
       "Shounen          7.055848\n",
       "Psychological    7.010398\n",
       "Military         7.006193\n",
       "Supernatural     7.004340\n",
       "Romance          6.999554\n",
       "Shoujo Ai        6.978148\n",
       "Drama            6.977465\n",
       "School           6.976246\n",
       "Harem            6.969712\n",
       "Seinen           6.965472\n",
       "Shounen Ai       6.961613\n",
       "Super Power      6.906831\n",
       "Shoujo           6.888194\n",
       "Vampire          6.884600\n",
       "Samurai          6.858621\n",
       "Magic            6.811429\n",
       "Martial Arts     6.804380\n",
       "Game             6.795235\n",
       "Action           6.787802\n",
       "Sports           6.784080\n",
       "Historical       6.753062\n",
       "Slice of Life    6.747127\n",
       "Adventure        6.746502\n",
       "Sci-Fi           6.703891\n",
       "Space            6.687766\n",
       "Fantasy          6.678013\n",
       "Demons           6.676307\n",
       "Ecchi            6.664944\n",
       "Mecha            6.645340\n",
       "Comedy           6.639694\n",
       "Parody           6.498892\n",
       "Cars             6.461127\n",
       "Horror           6.438194\n",
       "Yaoi             6.432973\n",
       "Hentai           6.161483\n",
       "Kids             6.120723\n",
       "Yuri             6.088537\n",
       "Music            5.928594\n",
       "Dementia         5.011681\n",
       "Name: rating, dtype: float64"
      ]
     },
     "execution_count": 34,
     "metadata": {},
     "output_type": "execute_result"
    }
   ],
   "source": [
    "#Group the data by genre and calculate the average rating for each genre.\n",
    "genre_ratings = dfg_exploded.groupby('genres')['rating'].mean().sort_values(ascending=False)\n",
    "genre_ratings"
   ]
  },
  {
   "cell_type": "code",
   "execution_count": 35,
   "id": "d21affbf-cf47-4158-b520-d6f76f502c21",
   "metadata": {},
   "outputs": [
    {
     "data": {
      "image/png": "[encoded data removed]",
      "text/plain": [
       "<Figure size 1000x600 with 1 Axes>"
      ]
     },
     "metadata": {},
     "output_type": "display_data"
    }
   ],
   "source": [
    "#Now visulise the results \n",
    "genre_ratings.plot(kind='bar', figsize=(10, 6))\n",
    "plt.title('Average Ratings by Genre')\n",
    "plt.xlabel('Genre')\n",
    "plt.ylabel('Average Rating')\n",
    "plt.show()"
   ]
  },
  {
   "cell_type": "markdown",
   "id": "31709401-291c-43b3-9e47-e0f41fe1b5ea",
   "metadata": {},
   "source": [
    "Upon observation, it becomes evident that the genre 'Josei' has the highest rating, closely followed by 'Thriller.' However, it's worth noting that the difference in ratings is relatively small"
   ]
  },
  {
   "cell_type": "code",
   "execution_count": 36,
   "id": "b97b6c94-f681-41b2-8153-105dc32f4785",
   "metadata": {},
   "outputs": [
    {
     "name": "stdout",
     "output_type": "stream",
     "text": [
      "Highest Rated Anime for Each Genre:\n",
      "                                                    name     genres  rating\n",
      "1                       Fullmetal Alchemist: Brotherhood     Action    9.26\n",
      "1                       Fullmetal Alchemist: Brotherhood  Adventure    9.26\n",
      "1                       Fullmetal Alchemist: Brotherhood      Drama    9.26\n",
      "1                       Fullmetal Alchemist: Brotherhood    Fantasy    9.26\n",
      "1                       Fullmetal Alchemist: Brotherhood      Magic    9.26\n",
      "...                                                  ...        ...     ...\n",
      "11118                                       Fuyu no Semi    Samurai    7.74\n",
      "11118                                       Fuyu no Semi       Yaoi    7.74\n",
      "11138  Sono Hanabira ni Kuchizuke wo: Anata to Koibit...     Hentai    7.40\n",
      "11138  Sono Hanabira ni Kuchizuke wo: Anata to Koibit...     School    7.40\n",
      "11138  Sono Hanabira ni Kuchizuke wo: Anata to Koibit...       Yuri    7.40\n",
      "\n",
      "[204 rows x 3 columns]\n"
     ]
    }
   ],
   "source": [
    "highest_rated_anime = dfg_exploded.loc[dfg_exploded.groupby('genres')['rating'].idxmax()]\n",
    "print(\"Highest Rated Anime for Each Genre:\")\n",
    "print(highest_rated_anime[['name', 'genres', 'rating']])"
   ]
  },
  {
   "cell_type": "markdown",
   "id": "dd04a45e-815f-4752-bf48-4780c2413305",
   "metadata": {},
   "source": [
    "# CONCLUSION "
   ]
  },
  {
   "cell_type": "markdown",
   "id": "2614bbca-6954-43e5-bf5a-5db21072c76b",
   "metadata": {},
   "source": [
    "\n",
    "With this I conclude this notebook. We were able to explore and analyse the following things in detail:"
   ]
  },
  {
   "cell_type": "markdown",
   "id": "048126c3-c379-42fb-86cc-b58afef4cf76",
   "metadata": {},
   "source": [
    "1.Determine the highest-rated anime genres\n",
    "\n",
    "2.Understand audience preferences for different mediums (TV, Movie, OVA, etc.)\n",
    "\n",
    "3.Explore whether viewers favor longer or shorter series\n",
    "\n",
    "4.Examine the potential relationship between the number of episodes and ratings"
   ]
  },
  {
   "cell_type": "code",
   "execution_count": null,
   "id": "f4373f2c-1c19-44e7-8886-f4eeb1a93893",
   "metadata": {},
   "outputs": [],
   "source": []
  }
 ],
 "metadata": {
  "kernelspec": {
   "display_name": "Python 3 (ipykernel)",
   "language": "python",
   "name": "python3"
  },
  "language_info": {
   "codemirror_mode": {
    "name": "ipython",
    "version": 3
   },
   "file_extension": ".py",
   "mimetype": "text/x-python",
   "name": "python",
   "nbconvert_exporter": "python",
   "pygments_lexer": "ipython3",
   "version": "3.12.7"
  }
 },
 "nbformat": 4,
 "nbformat_minor": 5
}
